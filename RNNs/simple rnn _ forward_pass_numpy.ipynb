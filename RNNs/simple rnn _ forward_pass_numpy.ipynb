{
 "cells": [
  {
   "cell_type": "code",
   "execution_count": null,
   "metadata": {
    "collapsed": true
   },
   "outputs": [],
   "source": [
    "#Simple RNN\n",
    "\n",
    "def rnn_cell_forward(xt,a_prev,parameters):\n",
    "    \n",
    "    #Retrieve weights and biases from the parameters\n",
    "    Wax = parameters[\"Wax\"]\n",
    "    Waa = parameters[\"Waa\"]\n",
    "    Wya = parameters[\"Wya\"]\n",
    "    ba = parameters[\"ba\"]\n",
    "    by = parameters[\"by\"]\n",
    "    \n",
    "    #Compute a_next and yt_pred\n",
    "    a_next = np.tanh(np.dot(Wax,xt)+np.dot(Waa,a_prev)+ba)\n",
    "    yt_pred = softmax(np.dot(Wya,a_next)+by)\n",
    "    \n",
    "    #Cache all the necessary variables\n",
    "    cache = (a_next, a_prev, xt, parameters)\n",
    "    \n",
    "    return a_next,yt_pred,caches\n",
    "    \n",
    "\n",
    "def rnn_forward(x, a0, parameters):\n",
    "    \n",
    "    #Get the needed dimensions\n",
    "    n_x,m,T_x = x.shape\n",
    "    n_y, n_a = parameters[\"Wya\"].shape\n",
    "    \n",
    "    # initialize \"a\" and \"y_pred\" with zeros\n",
    "    a = np.zeros([n_a,m,T_x])\n",
    "    y_pred = np.zeros([n_y,m,T_x])\n",
    "    \n",
    "    #To keep track of the computations at each step\n",
    "    caches =[]\n",
    "    \n",
    "    a_next = a_0\n",
    "    \n",
    "    for t in range(T_x):\n",
    "        \n",
    "        xt = [:,:,t]\n",
    "        \n",
    "        a_next,yt_pred,caches = rnn_cell_forward(xt,a_next,parameters)\n",
    "        \n",
    "        #Store the activations and output at each time step\n",
    "        a[:,:,t] = a_next\n",
    "        y_pred[:,:,t] = yt_pred\n",
    "        \n",
    "        caches.append(cache)\n",
    "        \n",
    "    caches = (caches, x)\n",
    "    \n",
    "    return a, y_pred, caches\n",
    "    "
   ]
  }
 ],
 "metadata": {
  "kernelspec": {
   "display_name": "Python 3",
   "language": "python",
   "name": "python3"
  },
  "language_info": {
   "codemirror_mode": {
    "name": "ipython",
    "version": 3
   },
   "file_extension": ".py",
   "mimetype": "text/x-python",
   "name": "python",
   "nbconvert_exporter": "python",
   "pygments_lexer": "ipython3",
   "version": "3.6.0"
  }
 },
 "nbformat": 4,
 "nbformat_minor": 2
}
